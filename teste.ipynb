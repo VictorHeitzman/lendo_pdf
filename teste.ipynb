{
 "cells": [
  {
   "cell_type": "code",
   "execution_count": 6,
   "metadata": {},
   "outputs": [
    {
     "ename": "FileNotDecryptedError",
     "evalue": "File has not been decrypted",
     "output_type": "error",
     "traceback": [
      "\u001b[1;31m---------------------------------------------------------------------------\u001b[0m",
      "\u001b[1;31mFileNotDecryptedError\u001b[0m                     Traceback (most recent call last)",
      "Cell \u001b[1;32mIn[6], line 8\u001b[0m\n\u001b[0;32m      4\u001b[0m teste \u001b[39m=\u001b[39m PdfReader(\u001b[39m'\u001b[39m\u001b[39mcontas\u001b[39m\u001b[39m\\\u001b[39m\u001b[39mSuaContaClaro_Abr-2023.pdf\u001b[39m\u001b[39m'\u001b[39m)\n\u001b[0;32m      6\u001b[0m page_teste \u001b[39m=\u001b[39m teste\u001b[39m.\u001b[39mpages\n\u001b[1;32m----> 8\u001b[0m page_teste[\u001b[39m0\u001b[39;49m]\u001b[39m.\u001b[39mextract_text()\n\u001b[0;32m     10\u001b[0m \u001b[39mprint\u001b[39m(page_teste)\n",
      "File \u001b[1;32mc:\\Users\\heitz\\AppData\\Local\\Programs\\Python\\Python311\\Lib\\site-packages\\pypdf\\_page.py:2454\u001b[0m, in \u001b[0;36m_VirtualList.__getitem__\u001b[1;34m(self, index)\u001b[0m\n\u001b[0;32m   2452\u001b[0m \u001b[39mif\u001b[39;00m \u001b[39mnot\u001b[39;00m \u001b[39misinstance\u001b[39m(index, \u001b[39mint\u001b[39m):\n\u001b[0;32m   2453\u001b[0m     \u001b[39mraise\u001b[39;00m \u001b[39mTypeError\u001b[39;00m(\u001b[39m\"\u001b[39m\u001b[39msequence indices must be integers\u001b[39m\u001b[39m\"\u001b[39m)\n\u001b[1;32m-> 2454\u001b[0m len_self \u001b[39m=\u001b[39m \u001b[39mlen\u001b[39;49m(\u001b[39mself\u001b[39;49m)\n\u001b[0;32m   2455\u001b[0m \u001b[39mif\u001b[39;00m index \u001b[39m<\u001b[39m \u001b[39m0\u001b[39m:\n\u001b[0;32m   2456\u001b[0m     \u001b[39m# support negative indexes\u001b[39;00m\n\u001b[0;32m   2457\u001b[0m     index \u001b[39m=\u001b[39m len_self \u001b[39m+\u001b[39m index\n",
      "File \u001b[1;32mc:\\Users\\heitz\\AppData\\Local\\Programs\\Python\\Python311\\Lib\\site-packages\\pypdf\\_page.py:2435\u001b[0m, in \u001b[0;36m_VirtualList.__len__\u001b[1;34m(self)\u001b[0m\n\u001b[0;32m   2434\u001b[0m \u001b[39mdef\u001b[39;00m \u001b[39m__len__\u001b[39m(\u001b[39mself\u001b[39m) \u001b[39m-\u001b[39m\u001b[39m>\u001b[39m \u001b[39mint\u001b[39m:\n\u001b[1;32m-> 2435\u001b[0m     \u001b[39mreturn\u001b[39;00m \u001b[39mself\u001b[39;49m\u001b[39m.\u001b[39;49mlength_function()\n",
      "File \u001b[1;32mc:\\Users\\heitz\\AppData\\Local\\Programs\\Python\\Python311\\Lib\\site-packages\\pypdf\\_reader.py:453\u001b[0m, in \u001b[0;36mPdfReader._get_num_pages\u001b[1;34m(self)\u001b[0m\n\u001b[0;32m    449\u001b[0m \u001b[39m# Flattened pages will not work on an Encrypted PDF;\u001b[39;00m\n\u001b[0;32m    450\u001b[0m \u001b[39m# the PDF file's page count is used in this case. Otherwise,\u001b[39;00m\n\u001b[0;32m    451\u001b[0m \u001b[39m# the original method (flattened page count) is used.\u001b[39;00m\n\u001b[0;32m    452\u001b[0m \u001b[39mif\u001b[39;00m \u001b[39mself\u001b[39m\u001b[39m.\u001b[39mis_encrypted:\n\u001b[1;32m--> 453\u001b[0m     \u001b[39mreturn\u001b[39;00m \u001b[39mself\u001b[39;49m\u001b[39m.\u001b[39;49mtrailer[TK\u001b[39m.\u001b[39;49mROOT][\u001b[39m\"\u001b[39m\u001b[39m/Pages\u001b[39m\u001b[39m\"\u001b[39m][\u001b[39m\"\u001b[39m\u001b[39m/Count\u001b[39m\u001b[39m\"\u001b[39m]  \u001b[39m# type: ignore\u001b[39;00m\n\u001b[0;32m    454\u001b[0m \u001b[39melse\u001b[39;00m:\n\u001b[0;32m    455\u001b[0m     \u001b[39mif\u001b[39;00m \u001b[39mself\u001b[39m\u001b[39m.\u001b[39mflattened_pages \u001b[39mis\u001b[39;00m \u001b[39mNone\u001b[39;00m:\n",
      "File \u001b[1;32mc:\\Users\\heitz\\AppData\\Local\\Programs\\Python\\Python311\\Lib\\site-packages\\pypdf\\generic\\_data_structures.py:309\u001b[0m, in \u001b[0;36mDictionaryObject.__getitem__\u001b[1;34m(self, key)\u001b[0m\n\u001b[0;32m    308\u001b[0m \u001b[39mdef\u001b[39;00m \u001b[39m__getitem__\u001b[39m(\u001b[39mself\u001b[39m, key: Any) \u001b[39m-\u001b[39m\u001b[39m>\u001b[39m PdfObject:\n\u001b[1;32m--> 309\u001b[0m     \u001b[39mreturn\u001b[39;00m \u001b[39mdict\u001b[39;49m\u001b[39m.\u001b[39;49m\u001b[39m__getitem__\u001b[39;49m(\u001b[39mself\u001b[39;49m, key)\u001b[39m.\u001b[39;49mget_object()\n",
      "File \u001b[1;32mc:\\Users\\heitz\\AppData\\Local\\Programs\\Python\\Python311\\Lib\\site-packages\\pypdf\\generic\\_base.py:306\u001b[0m, in \u001b[0;36mIndirectObject.get_object\u001b[1;34m(self)\u001b[0m\n\u001b[0;32m    305\u001b[0m \u001b[39mdef\u001b[39;00m \u001b[39mget_object\u001b[39m(\u001b[39mself\u001b[39m) \u001b[39m-\u001b[39m\u001b[39m>\u001b[39m Optional[\u001b[39m\"\u001b[39m\u001b[39mPdfObject\u001b[39m\u001b[39m\"\u001b[39m]:\n\u001b[1;32m--> 306\u001b[0m     obj \u001b[39m=\u001b[39m \u001b[39mself\u001b[39;49m\u001b[39m.\u001b[39;49mpdf\u001b[39m.\u001b[39;49mget_object(\u001b[39mself\u001b[39;49m)\n\u001b[0;32m    307\u001b[0m     \u001b[39mif\u001b[39;00m obj \u001b[39mis\u001b[39;00m \u001b[39mNone\u001b[39;00m:\n\u001b[0;32m    308\u001b[0m         \u001b[39mreturn\u001b[39;00m \u001b[39mNone\u001b[39;00m\n",
      "File \u001b[1;32mc:\\Users\\heitz\\AppData\\Local\\Programs\\Python\\Python311\\Lib\\site-packages\\pypdf\\_reader.py:1390\u001b[0m, in \u001b[0;36mPdfReader.get_object\u001b[1;34m(self, indirect_reference)\u001b[0m\n\u001b[0;32m   1387\u001b[0m \u001b[39mif\u001b[39;00m \u001b[39mnot\u001b[39;00m \u001b[39mself\u001b[39m\u001b[39m.\u001b[39m_override_encryption \u001b[39mand\u001b[39;00m \u001b[39mself\u001b[39m\u001b[39m.\u001b[39m_encryption \u001b[39mis\u001b[39;00m \u001b[39mnot\u001b[39;00m \u001b[39mNone\u001b[39;00m:\n\u001b[0;32m   1388\u001b[0m     \u001b[39m# if we don't have the encryption key:\u001b[39;00m\n\u001b[0;32m   1389\u001b[0m     \u001b[39mif\u001b[39;00m \u001b[39mnot\u001b[39;00m \u001b[39mself\u001b[39m\u001b[39m.\u001b[39m_encryption\u001b[39m.\u001b[39mis_decrypted():\n\u001b[1;32m-> 1390\u001b[0m         \u001b[39mraise\u001b[39;00m FileNotDecryptedError(\u001b[39m\"\u001b[39m\u001b[39mFile has not been decrypted\u001b[39m\u001b[39m\"\u001b[39m)\n\u001b[0;32m   1391\u001b[0m     \u001b[39m# otherwise, decrypt here...\u001b[39;00m\n\u001b[0;32m   1392\u001b[0m     retval \u001b[39m=\u001b[39m cast(PdfObject, retval)\n",
      "\u001b[1;31mFileNotDecryptedError\u001b[0m: File has not been decrypted"
     ]
    }
   ],
   "source": [
    "from pypdf import PdfReader, PdfWriter\n",
    "from os import chdir, getcwd, listdir\n",
    "\n",
    "teste = PdfReader('contas\\SuaContaClaro_Abr-2023.pdf')\n",
    "\n",
    "page_teste = teste.pages\n",
    "\n",
    "page_teste[0].extract_text()\n",
    "\n",
    "print(page_teste)"
   ]
  }
 ],
 "metadata": {
  "kernelspec": {
   "display_name": "Python 3",
   "language": "python",
   "name": "python3"
  },
  "language_info": {
   "codemirror_mode": {
    "name": "ipython",
    "version": 3
   },
   "file_extension": ".py",
   "mimetype": "text/x-python",
   "name": "python",
   "nbconvert_exporter": "python",
   "pygments_lexer": "ipython3",
   "version": "3.11.3"
  },
  "orig_nbformat": 4
 },
 "nbformat": 4,
 "nbformat_minor": 2
}
